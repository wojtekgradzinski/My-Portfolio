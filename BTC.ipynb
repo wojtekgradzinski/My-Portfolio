{
 "metadata": {
  "language_info": {
   "codemirror_mode": {
    "name": "ipython",
    "version": 3
   },
   "file_extension": ".py",
   "mimetype": "text/x-python",
   "name": "python",
   "nbconvert_exporter": "python",
   "pygments_lexer": "ipython3",
   "version": "3.8.10"
  },
  "orig_nbformat": 2,
  "kernelspec": {
   "name": "python3810jvsc74a57bd0273e4cd330c9365d0d8fc6d704b08084cf297120c969e21fb6416b510b92ba85",
   "display_name": "Python 3.8.10 64-bit ('wojtek': conda)"
  }
 },
 "nbformat": 4,
 "nbformat_minor": 2,
 "cells": [
  {
   "cell_type": "code",
   "execution_count": 2,
   "metadata": {},
   "outputs": [
    {
     "output_type": "stream",
     "name": "stdout",
     "text": [
      "[*********************100%***********************]  1 of 1 completed\n"
     ]
    }
   ],
   "source": [
    "import yfinance as yf\n",
    "df = yf.download(tickers='BTC-USD', period='3600d', interval='1d')"
   ]
  },
  {
   "cell_type": "code",
   "execution_count": 3,
   "metadata": {},
   "outputs": [
    {
     "output_type": "stream",
     "name": "stdout",
     "text": [
      "                    Open          High           Low         Close  \\\nDate                                                                 \n2014-09-17    465.864014    468.174011    452.421997    457.334015   \n2014-09-18    456.859985    456.859985    413.104004    424.440002   \n2014-09-19    424.102997    427.834991    384.532013    394.795990   \n2014-09-20    394.673004    423.295990    389.882996    408.903992   \n2014-09-21    408.084991    412.425995    393.181000    398.821014   \n...                  ...           ...           ...           ...   \n2021-06-01  37293.792969  37896.734375  35787.085938  36684.925781   \n2021-06-02  36699.921875  38231.339844  35966.308594  37575.179688   \n2021-06-03  37599.410156  39478.953125  37243.972656  39208.765625   \n2021-06-04  39242.484375  39242.484375  35717.722656  36894.406250   \n2021-06-05  36780.347656  37908.945312  34944.511719  34944.511719   \n\n               Adj Close       Volume  \nDate                                   \n2014-09-17    457.334015     21056800  \n2014-09-18    424.440002     34483200  \n2014-09-19    394.795990     37919700  \n2014-09-20    408.903992     36863600  \n2014-09-21    398.821014     26580100  \n...                  ...          ...  \n2021-06-01  36684.925781  34639423297  \n2021-06-02  37575.179688  33070867190  \n2021-06-03  39208.765625  35460750427  \n2021-06-04  36894.406250  41831090187  \n2021-06-05  34944.511719  34490920960  \n\n[2450 rows x 6 columns]\n"
     ]
    }
   ],
   "source": [
    "print(df)"
   ]
  },
  {
   "cell_type": "code",
   "execution_count": null,
   "metadata": {},
   "outputs": [],
   "source": []
  }
 ]
}